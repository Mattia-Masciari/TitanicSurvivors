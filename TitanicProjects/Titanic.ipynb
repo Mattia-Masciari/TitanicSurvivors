{
 "cells": [
  {
   "cell_type": "code",
   "execution_count": 3,
   "metadata": {},
   "outputs": [],
   "source": [
    "import pandas as pd"
   ]
  },
  {
   "cell_type": "code",
   "execution_count": null,
   "metadata": {},
   "outputs": [],
   "source": [
    "# Convert project_data to pandas DataFrame\n",
    "df = pd.read_csv(file_path)"
   ]
  },
  {
   "cell_type": "code",
   "execution_count": null,
   "metadata": {},
   "outputs": [
    {
     "name": "stdout",
     "output_type": "stream",
     "text": [
      "   Survived  Age  Pclass\n",
      "0         0   22       3\n",
      "1         1   38       1\n",
      "2         1   26       3\n",
      "3         1   35       1\n",
      "4         0   35       3\n",
      "5         0   54       1\n",
      "6         0    2       3\n",
      "7         1   27       3\n",
      "8         1   14       2\n",
      "9         1    4       3\n"
     ]
    }
   ],
   "source": [
    "# Display the first 10 rows of the DataFrame\n",
    "print(df.head(10))"
   ]
  },
  {
   "cell_type": "code",
   "execution_count": null,
   "metadata": {},
   "outputs": [
    {
     "name": "stdout",
     "output_type": "stream",
     "text": [
      "Basic Info\n",
      "<class 'pandas.core.frame.DataFrame'>\n",
      "RangeIndex: 714 entries, 0 to 713\n",
      "Data columns (total 3 columns):\n",
      " #   Column    Non-Null Count  Dtype\n",
      "---  ------    --------------  -----\n",
      " 0   Survived  714 non-null    int64\n",
      " 1   Age       714 non-null    int64\n",
      " 2   Pclass    714 non-null    int64\n",
      "dtypes: int64(3)\n",
      "memory usage: 16.9 KB\n",
      "None\n"
     ]
    }
   ],
   "source": [
    "\n",
    "# Display basic information about the DataFrae\n",
    "print(\"Basic Info\")\n",
    "print(df.info())"
   ]
  },
  {
   "cell_type": "code",
   "execution_count": null,
   "metadata": {},
   "outputs": [
    {
     "name": "stdout",
     "output_type": "stream",
     "text": [
      "\n",
      "Summery Statistics:\n",
      "         Survived         Age      Pclass\n",
      "count  714.000000  714.000000  714.000000\n",
      "mean     0.406162   29.712885    2.236695\n",
      "std      0.491460   14.529273    0.838250\n",
      "min      0.000000    0.000000    1.000000\n",
      "25%      0.000000   20.250000    1.000000\n",
      "50%      0.000000   28.000000    2.000000\n",
      "75%      1.000000   38.000000    3.000000\n",
      "max      1.000000   80.000000    3.000000\n"
     ]
    }
   ],
   "source": [
    "# Display summary statistics\n",
    "print(\"\\nSummery Statistics:\")\n",
    "print(df.describe())"
   ]
  },
  {
   "cell_type": "code",
   "execution_count": null,
   "metadata": {},
   "outputs": [
    {
     "name": "stdout",
     "output_type": "stream",
     "text": [
      "\n",
      "Number of Missing Values:\n",
      "<bound method DataFrame.sum of      Survived    Age  Pclass\n",
      "0       False  False   False\n",
      "1       False  False   False\n",
      "2       False  False   False\n",
      "3       False  False   False\n",
      "4       False  False   False\n",
      "..        ...    ...     ...\n",
      "709     False  False   False\n",
      "710     False  False   False\n",
      "711     False  False   False\n",
      "712     False  False   False\n",
      "713     False  False   False\n",
      "\n",
      "[714 rows x 3 columns]>\n"
     ]
    }
   ],
   "source": [
    "# Display number of missing values in each column\n",
    "print(\"\\nNumber of Missing Values:\")\n",
    "print(df.isnull().sum)"
   ]
  },
  {
   "cell_type": "code",
   "execution_count": null,
   "metadata": {},
   "outputs": [],
   "source": [
    "# Calculate the mean of the Age column\n",
    "age_mean = df['Age'].mean()\n"
   ]
  },
  {
   "cell_type": "code",
   "execution_count": null,
   "metadata": {},
   "outputs": [],
   "source": [
    "# Replace missing values in the Age column with the mean\n",
    "df.fillna({'Age': age_mean}, inplace=True)"
   ]
  },
  {
   "cell_type": "code",
   "execution_count": null,
   "metadata": {},
   "outputs": [
    {
     "name": "stdout",
     "output_type": "stream",
     "text": [
      "\n",
      "Number of Missing Values in Age column:\n",
      "0\n"
     ]
    }
   ],
   "source": [
    "# Verify that there are no missing values in the Age column\n",
    "print(\"\\nNumber of Missing Values in Age column:\")\n",
    "print(df['Age'].isnull().sum())\n"
   ]
  },
  {
   "cell_type": "code",
   "execution_count": null,
   "metadata": {},
   "outputs": [
    {
     "name": "stdout",
     "output_type": "stream",
     "text": [
      "\n",
      "Summery Statistics:\n",
      "         Survived         Age      Pclass\n",
      "count  714.000000  714.000000  714.000000\n",
      "mean     0.406162   29.712885    2.236695\n",
      "std      0.491460   14.529273    0.838250\n",
      "min      0.000000    0.000000    1.000000\n",
      "25%      0.000000   20.250000    1.000000\n",
      "50%      0.000000   28.000000    2.000000\n",
      "75%      1.000000   38.000000    3.000000\n",
      "max      1.000000   80.000000    3.000000\n"
     ]
    }
   ],
   "source": [
    "# Round the values in the Age column\n",
    "df['Age'] = df['Age'].round()\n",
    "\n",
    "# Display summary statistics\n",
    "print(\"\\nSummery Statistics:\")\n",
    "print(df.describe())"
   ]
  },
  {
   "cell_type": "code",
   "execution_count": null,
   "metadata": {},
   "outputs": [],
   "source": [
    "# Round the values in the Age column\n",
    "df['Age'] = df['Age'].round()\n",
    "\n",
    "# Define a function to categorize age\n",
    "def categorize_age(age):\n",
    "    if age <= 14:\n",
    "        return 'Children'\n",
    "    elif 15 <= age <= 64:\n",
    "        return 'Youth&Adults'\n",
    "    else:\n",
    "        return 'Seniors'\n",
    "\n",
    "   "
   ]
  },
  {
   "cell_type": "code",
   "execution_count": null,
   "metadata": {},
   "outputs": [],
   "source": [
    "# Create the 'age_category' column\n",
    "df['age_category'] = df['Age'].apply(categorize_age)\n",
    "print(df['age_category'].value_counts())"
   ]
  },
  {
   "cell_type": "code",
   "execution_count": 38,
   "metadata": {},
   "outputs": [
    {
     "name": "stdout",
     "output_type": "stream",
     "text": [
      "age_category\n",
      "Youth&Adults    626\n",
      "Children         77\n",
      "Seniors          11\n",
      "Name: count, dtype: int64\n"
     ]
    }
   ],
   "source": [
    "print(df['age_category'].value_counts())"
   ]
  },
  {
   "cell_type": "code",
   "execution_count": null,
   "metadata": {},
   "outputs": [
    {
     "name": "stdout",
     "output_type": "stream",
     "text": [
      "\n",
      "Data has been exported to CleanTitanic.xlsx\n"
     ]
    }
   ],
   "source": [
    "# Export the DataFrame to an Excel file\n",
    "df.to_excel('CleanTitanic.xlsx', index=False)\n",
    "\n",
    "print(\"\\nData has been exported to CleanTitanic.xlsx\")"
   ]
  }
 ],
 "metadata": {
  "kernelspec": {
   "display_name": "Python 3",
   "language": "python",
   "name": "python3"
  },
  "language_info": {
   "codemirror_mode": {
    "name": "ipython",
    "version": 3
   },
   "file_extension": ".py",
   "mimetype": "text/x-python",
   "name": "python",
   "nbconvert_exporter": "python",
   "pygments_lexer": "ipython3",
   "version": "3.12.6"
  }
 },
 "nbformat": 4,
 "nbformat_minor": 2
}
